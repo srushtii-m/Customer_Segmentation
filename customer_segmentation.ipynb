{
 "cells": [
  {
   "cell_type": "code",
   "execution_count": 18,
   "metadata": {},
   "outputs": [],
   "source": [
    "import pandas as pd\n",
    "import numpy as np\n",
    "import matplotlib.pyplot as plt\n",
    "import seaborn as sns\n",
    "from sklearn.cluster import KMeans\n",
    "from sklearn.preprocessing import StandardScaler\n",
    "from sklearn.decomposition import PCA\n",
    "import warnings\n",
    "warnings.filterwarnings('ignore')\n",
    "%matplotlib inline"
   ]
  },
  {
   "cell_type": "code",
   "execution_count": 2,
   "metadata": {},
   "outputs": [],
   "source": [
    "df = pd.read_csv('cleanedDataset.csv', encoding = 'ISO-8859-1')"
   ]
  },
  {
   "cell_type": "code",
   "execution_count": 3,
   "metadata": {},
   "outputs": [
    {
     "data": {
      "text/plain": [
       "Index(['type', 'days_for_shipping', 'days_for_shipment', 'benefit_per_order',\n",
       "       'delivery_status', 'late_delivery_risk', 'category_name',\n",
       "       'customer_city', 'customer_country', 'customer_fname', 'customer_id',\n",
       "       'customer_lname', 'customer_segment', 'customer_state',\n",
       "       'customer_street', 'customer_zipcode', 'department_id',\n",
       "       'department_name', 'latitude', 'longitude', 'market', 'order_city',\n",
       "       'order_country', 'order_id', 'order_item_discount',\n",
       "       'order_item_discount_rate', 'order_item_quantity', 'sales',\n",
       "       'order_item_total', 'order_region', 'order_state', 'order_status',\n",
       "       'product_card_id', 'product_name', 'product_price', 'shipping_mode',\n",
       "       'order_year', 'order_month', 'order_date', 'shipping_year',\n",
       "       'shipping_month', 'shipping_date', 'sales_id'],\n",
       "      dtype='object')"
      ]
     },
     "execution_count": 3,
     "metadata": {},
     "output_type": "execute_result"
    }
   ],
   "source": [
    "df.columns"
   ]
  },
  {
   "cell_type": "code",
   "execution_count": 4,
   "metadata": {},
   "outputs": [],
   "source": [
    "# Select relevant columns for segmentation based on sales\n",
    "col = ['order_item_quantity', 'sales', 'benefit_per_order', 'order_item_discount', 'order_item_total','order_date', 'shipping_date']"
   ]
  },
  {
   "cell_type": "code",
   "execution_count": 5,
   "metadata": {},
   "outputs": [],
   "source": [
    "df_new = df[col]"
   ]
  },
  {
   "cell_type": "code",
   "execution_count": 6,
   "metadata": {},
   "outputs": [
    {
     "data": {
      "text/html": [
       "<div>\n",
       "<style scoped>\n",
       "    .dataframe tbody tr th:only-of-type {\n",
       "        vertical-align: middle;\n",
       "    }\n",
       "\n",
       "    .dataframe tbody tr th {\n",
       "        vertical-align: top;\n",
       "    }\n",
       "\n",
       "    .dataframe thead th {\n",
       "        text-align: right;\n",
       "    }\n",
       "</style>\n",
       "<table border=\"1\" class=\"dataframe\">\n",
       "  <thead>\n",
       "    <tr style=\"text-align: right;\">\n",
       "      <th></th>\n",
       "      <th>order_item_quantity</th>\n",
       "      <th>sales</th>\n",
       "      <th>benefit_per_order</th>\n",
       "      <th>order_item_discount</th>\n",
       "      <th>order_item_total</th>\n",
       "      <th>order_date</th>\n",
       "      <th>shipping_date</th>\n",
       "    </tr>\n",
       "  </thead>\n",
       "  <tbody>\n",
       "    <tr>\n",
       "      <th>0</th>\n",
       "      <td>1</td>\n",
       "      <td>327.75</td>\n",
       "      <td>91.250000</td>\n",
       "      <td>13.110000</td>\n",
       "      <td>314.640015</td>\n",
       "      <td>2018-01-31</td>\n",
       "      <td>2018-02-03</td>\n",
       "    </tr>\n",
       "    <tr>\n",
       "      <th>1</th>\n",
       "      <td>1</td>\n",
       "      <td>327.75</td>\n",
       "      <td>-249.089996</td>\n",
       "      <td>16.389999</td>\n",
       "      <td>311.359985</td>\n",
       "      <td>2018-01-13</td>\n",
       "      <td>2018-01-18</td>\n",
       "    </tr>\n",
       "    <tr>\n",
       "      <th>2</th>\n",
       "      <td>1</td>\n",
       "      <td>327.75</td>\n",
       "      <td>-247.779999</td>\n",
       "      <td>18.030001</td>\n",
       "      <td>309.720001</td>\n",
       "      <td>2018-01-13</td>\n",
       "      <td>2018-01-17</td>\n",
       "    </tr>\n",
       "    <tr>\n",
       "      <th>3</th>\n",
       "      <td>1</td>\n",
       "      <td>327.75</td>\n",
       "      <td>22.860001</td>\n",
       "      <td>22.940001</td>\n",
       "      <td>304.809998</td>\n",
       "      <td>2018-01-13</td>\n",
       "      <td>2018-01-16</td>\n",
       "    </tr>\n",
       "    <tr>\n",
       "      <th>4</th>\n",
       "      <td>1</td>\n",
       "      <td>327.75</td>\n",
       "      <td>134.210007</td>\n",
       "      <td>29.500000</td>\n",
       "      <td>298.250000</td>\n",
       "      <td>2018-01-13</td>\n",
       "      <td>2018-01-15</td>\n",
       "    </tr>\n",
       "  </tbody>\n",
       "</table>\n",
       "</div>"
      ],
      "text/plain": [
       "   order_item_quantity   sales  benefit_per_order  order_item_discount  \\\n",
       "0                    1  327.75          91.250000            13.110000   \n",
       "1                    1  327.75        -249.089996            16.389999   \n",
       "2                    1  327.75        -247.779999            18.030001   \n",
       "3                    1  327.75          22.860001            22.940001   \n",
       "4                    1  327.75         134.210007            29.500000   \n",
       "\n",
       "   order_item_total  order_date shipping_date  \n",
       "0        314.640015  2018-01-31    2018-02-03  \n",
       "1        311.359985  2018-01-13    2018-01-18  \n",
       "2        309.720001  2018-01-13    2018-01-17  \n",
       "3        304.809998  2018-01-13    2018-01-16  \n",
       "4        298.250000  2018-01-13    2018-01-15  "
      ]
     },
     "execution_count": 6,
     "metadata": {},
     "output_type": "execute_result"
    }
   ],
   "source": [
    "df_new.head()"
   ]
  },
  {
   "cell_type": "code",
   "execution_count": 7,
   "metadata": {},
   "outputs": [
    {
     "data": {
      "text/html": [
       "<div>\n",
       "<style scoped>\n",
       "    .dataframe tbody tr th:only-of-type {\n",
       "        vertical-align: middle;\n",
       "    }\n",
       "\n",
       "    .dataframe tbody tr th {\n",
       "        vertical-align: top;\n",
       "    }\n",
       "\n",
       "    .dataframe thead th {\n",
       "        text-align: right;\n",
       "    }\n",
       "</style>\n",
       "<table border=\"1\" class=\"dataframe\">\n",
       "  <thead>\n",
       "    <tr style=\"text-align: right;\">\n",
       "      <th></th>\n",
       "      <th>order_item_quantity</th>\n",
       "      <th>sales</th>\n",
       "      <th>benefit_per_order</th>\n",
       "      <th>order_item_discount</th>\n",
       "      <th>order_item_total</th>\n",
       "    </tr>\n",
       "  </thead>\n",
       "  <tbody>\n",
       "    <tr>\n",
       "      <th>order_item_quantity</th>\n",
       "      <td>1.000000</td>\n",
       "      <td>0.106442</td>\n",
       "      <td>0.015696</td>\n",
       "      <td>0.065379</td>\n",
       "      <td>0.105413</td>\n",
       "    </tr>\n",
       "    <tr>\n",
       "      <th>sales</th>\n",
       "      <td>0.106442</td>\n",
       "      <td>1.000000</td>\n",
       "      <td>0.131816</td>\n",
       "      <td>0.617438</td>\n",
       "      <td>0.989744</td>\n",
       "    </tr>\n",
       "    <tr>\n",
       "      <th>benefit_per_order</th>\n",
       "      <td>0.015696</td>\n",
       "      <td>0.131816</td>\n",
       "      <td>1.000000</td>\n",
       "      <td>0.064756</td>\n",
       "      <td>0.133484</td>\n",
       "    </tr>\n",
       "    <tr>\n",
       "      <th>order_item_discount</th>\n",
       "      <td>0.065379</td>\n",
       "      <td>0.617438</td>\n",
       "      <td>0.064756</td>\n",
       "      <td>1.000000</td>\n",
       "      <td>0.498734</td>\n",
       "    </tr>\n",
       "    <tr>\n",
       "      <th>order_item_total</th>\n",
       "      <td>0.105413</td>\n",
       "      <td>0.989744</td>\n",
       "      <td>0.133484</td>\n",
       "      <td>0.498734</td>\n",
       "      <td>1.000000</td>\n",
       "    </tr>\n",
       "  </tbody>\n",
       "</table>\n",
       "</div>"
      ],
      "text/plain": [
       "                     order_item_quantity     sales  benefit_per_order  \\\n",
       "order_item_quantity             1.000000  0.106442           0.015696   \n",
       "sales                           0.106442  1.000000           0.131816   \n",
       "benefit_per_order               0.015696  0.131816           1.000000   \n",
       "order_item_discount             0.065379  0.617438           0.064756   \n",
       "order_item_total                0.105413  0.989744           0.133484   \n",
       "\n",
       "                     order_item_discount  order_item_total  \n",
       "order_item_quantity             0.065379          0.105413  \n",
       "sales                           0.617438          0.989744  \n",
       "benefit_per_order               0.064756          0.133484  \n",
       "order_item_discount             1.000000          0.498734  \n",
       "order_item_total                0.498734          1.000000  "
      ]
     },
     "execution_count": 7,
     "metadata": {},
     "output_type": "execute_result"
    }
   ],
   "source": [
    "df_new.corr()"
   ]
  },
  {
   "cell_type": "code",
   "execution_count": 8,
   "metadata": {},
   "outputs": [],
   "source": [
    "# Convert 'OrderDate' and 'ShipDate' to datetime objects\n",
    "df_new['order_date'] = pd.to_datetime(df_new['order_date'])\n",
    "df_new['shipping_date'] = pd.to_datetime(df_new['shipping_date'])"
   ]
  },
  {
   "cell_type": "code",
   "execution_count": 9,
   "metadata": {},
   "outputs": [
    {
     "data": {
      "text/html": [
       "<div>\n",
       "<style scoped>\n",
       "    .dataframe tbody tr th:only-of-type {\n",
       "        vertical-align: middle;\n",
       "    }\n",
       "\n",
       "    .dataframe tbody tr th {\n",
       "        vertical-align: top;\n",
       "    }\n",
       "\n",
       "    .dataframe thead th {\n",
       "        text-align: right;\n",
       "    }\n",
       "</style>\n",
       "<table border=\"1\" class=\"dataframe\">\n",
       "  <thead>\n",
       "    <tr style=\"text-align: right;\">\n",
       "      <th></th>\n",
       "      <th>order_item_quantity</th>\n",
       "      <th>sales</th>\n",
       "      <th>benefit_per_order</th>\n",
       "      <th>order_item_discount</th>\n",
       "      <th>order_item_total</th>\n",
       "      <th>order_date</th>\n",
       "      <th>shipping_date</th>\n",
       "      <th>order_duration</th>\n",
       "    </tr>\n",
       "  </thead>\n",
       "  <tbody>\n",
       "    <tr>\n",
       "      <th>0</th>\n",
       "      <td>1</td>\n",
       "      <td>327.75</td>\n",
       "      <td>91.250000</td>\n",
       "      <td>13.110000</td>\n",
       "      <td>314.640015</td>\n",
       "      <td>2018-01-31</td>\n",
       "      <td>2018-02-03</td>\n",
       "      <td>3</td>\n",
       "    </tr>\n",
       "    <tr>\n",
       "      <th>1</th>\n",
       "      <td>1</td>\n",
       "      <td>327.75</td>\n",
       "      <td>-249.089996</td>\n",
       "      <td>16.389999</td>\n",
       "      <td>311.359985</td>\n",
       "      <td>2018-01-13</td>\n",
       "      <td>2018-01-18</td>\n",
       "      <td>5</td>\n",
       "    </tr>\n",
       "    <tr>\n",
       "      <th>2</th>\n",
       "      <td>1</td>\n",
       "      <td>327.75</td>\n",
       "      <td>-247.779999</td>\n",
       "      <td>18.030001</td>\n",
       "      <td>309.720001</td>\n",
       "      <td>2018-01-13</td>\n",
       "      <td>2018-01-17</td>\n",
       "      <td>4</td>\n",
       "    </tr>\n",
       "    <tr>\n",
       "      <th>3</th>\n",
       "      <td>1</td>\n",
       "      <td>327.75</td>\n",
       "      <td>22.860001</td>\n",
       "      <td>22.940001</td>\n",
       "      <td>304.809998</td>\n",
       "      <td>2018-01-13</td>\n",
       "      <td>2018-01-16</td>\n",
       "      <td>3</td>\n",
       "    </tr>\n",
       "    <tr>\n",
       "      <th>4</th>\n",
       "      <td>1</td>\n",
       "      <td>327.75</td>\n",
       "      <td>134.210007</td>\n",
       "      <td>29.500000</td>\n",
       "      <td>298.250000</td>\n",
       "      <td>2018-01-13</td>\n",
       "      <td>2018-01-15</td>\n",
       "      <td>2</td>\n",
       "    </tr>\n",
       "  </tbody>\n",
       "</table>\n",
       "</div>"
      ],
      "text/plain": [
       "   order_item_quantity   sales  benefit_per_order  order_item_discount  \\\n",
       "0                    1  327.75          91.250000            13.110000   \n",
       "1                    1  327.75        -249.089996            16.389999   \n",
       "2                    1  327.75        -247.779999            18.030001   \n",
       "3                    1  327.75          22.860001            22.940001   \n",
       "4                    1  327.75         134.210007            29.500000   \n",
       "\n",
       "   order_item_total order_date shipping_date  order_duration  \n",
       "0        314.640015 2018-01-31    2018-02-03               3  \n",
       "1        311.359985 2018-01-13    2018-01-18               5  \n",
       "2        309.720001 2018-01-13    2018-01-17               4  \n",
       "3        304.809998 2018-01-13    2018-01-16               3  \n",
       "4        298.250000 2018-01-13    2018-01-15               2  "
      ]
     },
     "execution_count": 9,
     "metadata": {},
     "output_type": "execute_result"
    }
   ],
   "source": [
    "# Calculate the duration between order and shipment\n",
    "df_new['order_duration'] = (df_new['shipping_date'] - df_new['order_date']).dt.days\n",
    "\n",
    "# Display the modified DataFrame\n",
    "df_new.head()"
   ]
  },
  {
   "cell_type": "code",
   "execution_count": 10,
   "metadata": {},
   "outputs": [],
   "source": [
    "# Select numerical columns for scaling\n",
    "col = ['order_item_quantity', 'sales', 'benefit_per_order', 'order_item_discount', 'order_item_total','order_duration']"
   ]
  },
  {
   "cell_type": "code",
   "execution_count": 11,
   "metadata": {},
   "outputs": [],
   "source": [
    "# Standardize the numerical features\n",
    "scaler = StandardScaler()\n",
    "df_scaled = scaler.fit_transform(df_new[col])"
   ]
  },
  {
   "cell_type": "code",
   "execution_count": 12,
   "metadata": {},
   "outputs": [
    {
     "data": {
      "text/html": [
       "<div>\n",
       "<style scoped>\n",
       "    .dataframe tbody tr th:only-of-type {\n",
       "        vertical-align: middle;\n",
       "    }\n",
       "\n",
       "    .dataframe tbody tr th {\n",
       "        vertical-align: top;\n",
       "    }\n",
       "\n",
       "    .dataframe thead th {\n",
       "        text-align: right;\n",
       "    }\n",
       "</style>\n",
       "<table border=\"1\" class=\"dataframe\">\n",
       "  <thead>\n",
       "    <tr style=\"text-align: right;\">\n",
       "      <th></th>\n",
       "      <th>order_item_quantity</th>\n",
       "      <th>sales</th>\n",
       "      <th>benefit_per_order</th>\n",
       "      <th>order_item_discount</th>\n",
       "      <th>order_item_total</th>\n",
       "      <th>order_duration</th>\n",
       "    </tr>\n",
       "  </thead>\n",
       "  <tbody>\n",
       "    <tr>\n",
       "      <th>0</th>\n",
       "      <td>-0.775836</td>\n",
       "      <td>0.93729</td>\n",
       "      <td>0.663343</td>\n",
       "      <td>-0.346534</td>\n",
       "      <td>1.095708</td>\n",
       "      <td>-0.306491</td>\n",
       "    </tr>\n",
       "    <tr>\n",
       "      <th>1</th>\n",
       "      <td>-0.775836</td>\n",
       "      <td>0.93729</td>\n",
       "      <td>-2.595582</td>\n",
       "      <td>-0.196082</td>\n",
       "      <td>1.068384</td>\n",
       "      <td>0.925251</td>\n",
       "    </tr>\n",
       "    <tr>\n",
       "      <th>2</th>\n",
       "      <td>-0.775836</td>\n",
       "      <td>0.93729</td>\n",
       "      <td>-2.583038</td>\n",
       "      <td>-0.120855</td>\n",
       "      <td>1.054722</td>\n",
       "      <td>0.309380</td>\n",
       "    </tr>\n",
       "    <tr>\n",
       "      <th>3</th>\n",
       "      <td>-0.775836</td>\n",
       "      <td>0.93729</td>\n",
       "      <td>0.008474</td>\n",
       "      <td>0.104366</td>\n",
       "      <td>1.013820</td>\n",
       "      <td>-0.306491</td>\n",
       "    </tr>\n",
       "    <tr>\n",
       "      <th>4</th>\n",
       "      <td>-0.775836</td>\n",
       "      <td>0.93729</td>\n",
       "      <td>1.074706</td>\n",
       "      <td>0.405271</td>\n",
       "      <td>0.959174</td>\n",
       "      <td>-0.922361</td>\n",
       "    </tr>\n",
       "  </tbody>\n",
       "</table>\n",
       "</div>"
      ],
      "text/plain": [
       "   order_item_quantity    sales  benefit_per_order  order_item_discount  \\\n",
       "0            -0.775836  0.93729           0.663343            -0.346534   \n",
       "1            -0.775836  0.93729          -2.595582            -0.196082   \n",
       "2            -0.775836  0.93729          -2.583038            -0.120855   \n",
       "3            -0.775836  0.93729           0.008474             0.104366   \n",
       "4            -0.775836  0.93729           1.074706             0.405271   \n",
       "\n",
       "   order_item_total  order_duration  \n",
       "0          1.095708       -0.306491  \n",
       "1          1.068384        0.925251  \n",
       "2          1.054722        0.309380  \n",
       "3          1.013820       -0.306491  \n",
       "4          0.959174       -0.922361  "
      ]
     },
     "execution_count": 12,
     "metadata": {},
     "output_type": "execute_result"
    }
   ],
   "source": [
    "# Create a DataFrame with the scaled features\n",
    "df_scaled = pd.DataFrame(df_scaled, columns=col)\n",
    "\n",
    "# Display the scaled DataFrame\n",
    "df_scaled.head()"
   ]
  },
  {
   "cell_type": "markdown",
   "metadata": {},
   "source": [
    "### PCA to identify important features that explain the most variance"
   ]
  },
  {
   "cell_type": "code",
   "execution_count": 19,
   "metadata": {},
   "outputs": [
    {
     "name": "stdout",
     "output_type": "stream",
     "text": [
      "Explained variation per principal component: [0.41192644 0.16687411]\n",
      "Cumulative variance explained by 2 principal components: 57.88%\n"
     ]
    }
   ],
   "source": [
    "pca_2 = PCA(n_components=2)\n",
    "pca_2_result = pca_2.fit_transform(df_scaled)\n",
    "print('Explained variation per principal component: {}'.format(pca_2.explained_variance_ratio_))\n",
    "# >> Explained variation per principal component: [0.36198848 0.1920749 ]\n",
    "print('Cumulative variance explained by 2 principal components: {:.2%}'.format(np.sum(pca_2.explained_variance_ratio_)))\n",
    "# >> Cumulative variance explained by 2 principal components: 55.41%\n"
   ]
  },
  {
   "cell_type": "code",
   "execution_count": 20,
   "metadata": {},
   "outputs": [
    {
     "name": "stdout",
     "output_type": "stream",
     "text": [
      "\n",
      "\n",
      "       order_item_quantity     sales  benefit_per_order  order_item_discount  \\\n",
      "PC_1             0.110361  0.621717           0.132068             0.474546   \n",
      "PC_2             0.001658  0.012620           0.216910             0.029946   \n",
      "\n",
      "      order_item_total  order_duration  \n",
      "PC_1          0.598874        0.001745  \n",
      "PC_2          0.008467        0.975612  \n"
     ]
    }
   ],
   "source": [
    "# Results from pca.components_\n",
    "dataset_pca = pd.DataFrame(abs(pca_2.components_), columns=df_scaled.columns, index=['PC_1', 'PC_2'])\n",
    "print('\\n\\n', dataset_pca)"
   ]
  },
  {
   "cell_type": "markdown",
   "metadata": {},
   "source": [
    "## Clustering"
   ]
  },
  {
   "cell_type": "code",
   "execution_count": 13,
   "metadata": {},
   "outputs": [
    {
     "data": {
      "image/png": "[encoded data removed]",
      "text/plain": [
       "<Figure size 640x480 with 1 Axes>"
      ]
     },
     "metadata": {},
     "output_type": "display_data"
    }
   ],
   "source": [
    "#  Elbow Method to find the optimal number of clusters\n",
    "wcss = []\n",
    "for i in range(1, 11):\n",
    "    kmeans = KMeans(n_clusters=i, random_state=42)\n",
    "    kmeans.fit(df_scaled)\n",
    "    wcss.append(kmeans.inertia_)\n",
    "\n",
    "# Plot the Elbow Method\n",
    "plt.plot(range(1, 11), wcss, marker='.', color='grey')\n",
    "plt.title('Elbow Method for Optimal Number of Clusters')\n",
    "plt.xlabel('Number of Clusters')\n",
    "plt.ylabel('Within-Cluster Sum of Squares (WCSS)')\n",
    "plt.show()"
   ]
  },
  {
   "cell_type": "markdown",
   "metadata": {},
   "source": [
    "Optimal number of clusters will be 4 as observed from the graph."
   ]
  },
  {
   "cell_type": "code",
   "execution_count": 52,
   "metadata": {},
   "outputs": [
    {
     "data": {
      "text/html": [
       "<div>\n",
       "<style scoped>\n",
       "    .dataframe tbody tr th:only-of-type {\n",
       "        vertical-align: middle;\n",
       "    }\n",
       "\n",
       "    .dataframe tbody tr th {\n",
       "        vertical-align: top;\n",
       "    }\n",
       "\n",
       "    .dataframe thead th {\n",
       "        text-align: right;\n",
       "    }\n",
       "</style>\n",
       "<table border=\"1\" class=\"dataframe\">\n",
       "  <thead>\n",
       "    <tr style=\"text-align: right;\">\n",
       "      <th></th>\n",
       "      <th>order_item_quantity</th>\n",
       "      <th>sales</th>\n",
       "      <th>benefit_per_order</th>\n",
       "      <th>order_item_discount</th>\n",
       "      <th>order_item_total</th>\n",
       "      <th>order_date</th>\n",
       "      <th>shipping_date</th>\n",
       "      <th>order_duration</th>\n",
       "      <th>segment_id</th>\n",
       "    </tr>\n",
       "  </thead>\n",
       "  <tbody>\n",
       "    <tr>\n",
       "      <th>0</th>\n",
       "      <td>1</td>\n",
       "      <td>327.75</td>\n",
       "      <td>91.250000</td>\n",
       "      <td>13.110000</td>\n",
       "      <td>314.640015</td>\n",
       "      <td>2018-01-31</td>\n",
       "      <td>2018-02-03</td>\n",
       "      <td>3</td>\n",
       "      <td>2</td>\n",
       "    </tr>\n",
       "    <tr>\n",
       "      <th>1</th>\n",
       "      <td>1</td>\n",
       "      <td>327.75</td>\n",
       "      <td>-249.089996</td>\n",
       "      <td>16.389999</td>\n",
       "      <td>311.359985</td>\n",
       "      <td>2018-01-13</td>\n",
       "      <td>2018-01-18</td>\n",
       "      <td>5</td>\n",
       "      <td>1</td>\n",
       "    </tr>\n",
       "    <tr>\n",
       "      <th>2</th>\n",
       "      <td>1</td>\n",
       "      <td>327.75</td>\n",
       "      <td>-247.779999</td>\n",
       "      <td>18.030001</td>\n",
       "      <td>309.720001</td>\n",
       "      <td>2018-01-13</td>\n",
       "      <td>2018-01-17</td>\n",
       "      <td>4</td>\n",
       "      <td>1</td>\n",
       "    </tr>\n",
       "    <tr>\n",
       "      <th>3</th>\n",
       "      <td>1</td>\n",
       "      <td>327.75</td>\n",
       "      <td>22.860001</td>\n",
       "      <td>22.940001</td>\n",
       "      <td>304.809998</td>\n",
       "      <td>2018-01-13</td>\n",
       "      <td>2018-01-16</td>\n",
       "      <td>3</td>\n",
       "      <td>2</td>\n",
       "    </tr>\n",
       "    <tr>\n",
       "      <th>4</th>\n",
       "      <td>1</td>\n",
       "      <td>327.75</td>\n",
       "      <td>134.210007</td>\n",
       "      <td>29.500000</td>\n",
       "      <td>298.250000</td>\n",
       "      <td>2018-01-13</td>\n",
       "      <td>2018-01-15</td>\n",
       "      <td>2</td>\n",
       "      <td>2</td>\n",
       "    </tr>\n",
       "  </tbody>\n",
       "</table>\n",
       "</div>"
      ],
      "text/plain": [
       "   order_item_quantity   sales  benefit_per_order  order_item_discount  \\\n",
       "0                    1  327.75          91.250000            13.110000   \n",
       "1                    1  327.75        -249.089996            16.389999   \n",
       "2                    1  327.75        -247.779999            18.030001   \n",
       "3                    1  327.75          22.860001            22.940001   \n",
       "4                    1  327.75         134.210007            29.500000   \n",
       "\n",
       "   order_item_total order_date shipping_date  order_duration  segment_id  \n",
       "0        314.640015 2018-01-31    2018-02-03               3           2  \n",
       "1        311.359985 2018-01-13    2018-01-18               5           1  \n",
       "2        309.720001 2018-01-13    2018-01-17               4           1  \n",
       "3        304.809998 2018-01-13    2018-01-16               3           2  \n",
       "4        298.250000 2018-01-13    2018-01-15               2           2  "
      ]
     },
     "execution_count": 52,
     "metadata": {},
     "output_type": "execute_result"
    }
   ],
   "source": [
    "# Choose the optimal number of clusters (elbow point)\n",
    "optimal_clusters = 4\n",
    "\n",
    "# Customer Segmentation using K-Means Clustering\n",
    "kmeans = KMeans(n_clusters=optimal_clusters, random_state=42)\n",
    "df_new['segment_id'] = kmeans.fit_predict(df_scaled)\n",
    "\n",
    "# Display the DataFrame with the cluster assignments\n",
    "df_new.head()"
   ]
  },
  {
   "cell_type": "code",
   "execution_count": 53,
   "metadata": {},
   "outputs": [
    {
     "data": {
      "text/html": [
       "<div>\n",
       "<style scoped>\n",
       "    .dataframe tbody tr th:only-of-type {\n",
       "        vertical-align: middle;\n",
       "    }\n",
       "\n",
       "    .dataframe tbody tr th {\n",
       "        vertical-align: top;\n",
       "    }\n",
       "\n",
       "    .dataframe thead th {\n",
       "        text-align: right;\n",
       "    }\n",
       "</style>\n",
       "<table border=\"1\" class=\"dataframe\">\n",
       "  <thead>\n",
       "    <tr style=\"text-align: right;\">\n",
       "      <th></th>\n",
       "      <th>segment_id</th>\n",
       "      <th>segment_category</th>\n",
       "    </tr>\n",
       "  </thead>\n",
       "  <tbody>\n",
       "    <tr>\n",
       "      <th>0</th>\n",
       "      <td>2</td>\n",
       "      <td>Segment_3</td>\n",
       "    </tr>\n",
       "    <tr>\n",
       "      <th>1</th>\n",
       "      <td>1</td>\n",
       "      <td>Segment_2</td>\n",
       "    </tr>\n",
       "    <tr>\n",
       "      <th>2</th>\n",
       "      <td>1</td>\n",
       "      <td>Segment_2</td>\n",
       "    </tr>\n",
       "    <tr>\n",
       "      <th>3</th>\n",
       "      <td>2</td>\n",
       "      <td>Segment_3</td>\n",
       "    </tr>\n",
       "    <tr>\n",
       "      <th>4</th>\n",
       "      <td>2</td>\n",
       "      <td>Segment_3</td>\n",
       "    </tr>\n",
       "    <tr>\n",
       "      <th>5</th>\n",
       "      <td>2</td>\n",
       "      <td>Segment_3</td>\n",
       "    </tr>\n",
       "    <tr>\n",
       "      <th>6</th>\n",
       "      <td>2</td>\n",
       "      <td>Segment_3</td>\n",
       "    </tr>\n",
       "    <tr>\n",
       "      <th>7</th>\n",
       "      <td>2</td>\n",
       "      <td>Segment_3</td>\n",
       "    </tr>\n",
       "    <tr>\n",
       "      <th>8</th>\n",
       "      <td>2</td>\n",
       "      <td>Segment_3</td>\n",
       "    </tr>\n",
       "    <tr>\n",
       "      <th>9</th>\n",
       "      <td>2</td>\n",
       "      <td>Segment_3</td>\n",
       "    </tr>\n",
       "  </tbody>\n",
       "</table>\n",
       "</div>"
      ],
      "text/plain": [
       "   segment_id segment_category\n",
       "0           2        Segment_3\n",
       "1           1        Segment_2\n",
       "2           1        Segment_2\n",
       "3           2        Segment_3\n",
       "4           2        Segment_3\n",
       "5           2        Segment_3\n",
       "6           2        Segment_3\n",
       "7           2        Segment_3\n",
       "8           2        Segment_3\n",
       "9           2        Segment_3"
      ]
     },
     "execution_count": 53,
     "metadata": {},
     "output_type": "execute_result"
    }
   ],
   "source": [
    "# Create 'SegmentCat' column based on 'Cluster' values\n",
    "df_new['segment_category'] = df_new['segment_id'].map({\n",
    "    0: 'Segment_1',\n",
    "    1: 'Segment_2',\n",
    "    2: 'Segment_3',\n",
    "    3: 'Segment_4'\n",
    "})\n",
    "\n",
    "df_new[['segment_id', 'segment_category']].head(10)"
   ]
  },
  {
   "cell_type": "markdown",
   "metadata": {},
   "source": [
    "### Analyze the customer segmentation\n"
   ]
  },
  {
   "cell_type": "code",
   "execution_count": 54,
   "metadata": {},
   "outputs": [
    {
     "name": "stdout",
     "output_type": "stream",
     "text": [
      "Segment_1: 48.4%\n",
      "Segment_2: 3.5%\n",
      "Segment_3: 20.8%\n",
      "Segment_4: 27.3%\n"
     ]
    }
   ],
   "source": [
    "# Number of customers for each category\n",
    "\n",
    "s1_cus =  (len(df_new[df_new['segment_category']=='Segment_1'])/len(df_new))*100\n",
    "s2_cus =  (len(df_new[df_new['segment_category']=='Segment_2'])/len(df_new))*100\n",
    "s3_cus = (len(df_new[df_new['segment_category']=='Segment_3'])/len(df_new))*100\n",
    "s4_cus = (len(df_new[df_new['segment_category']=='Segment_4'])/len(df_new))*100\n",
    "\n",
    "print(f'Segment_1: {s1_cus:.1f}%')\n",
    "print(f'Segment_2: {s2_cus:.1f}%')\n",
    "print(f'Segment_3: {s3_cus:.1f}%')\n",
    "print(f'Segment_4: {s4_cus:.1f}%')"
   ]
  },
  {
   "cell_type": "code",
   "execution_count": 55,
   "metadata": {},
   "outputs": [
    {
     "data": {
      "image/png": "[encoded data removed]",
      "text/plain": [
       "<Figure size 800x300 with 1 Axes>"
      ]
     },
     "metadata": {},
     "output_type": "display_data"
    }
   ],
   "source": [
    "cat = df_new[['segment_category', 'segment_id']]\n",
    "cat_sorted = cat.sort_values(by=['segment_id'])\n",
    "plt.figure(figsize=(8,3))\n",
    "plt.hist(cat_sorted['segment_category'], color='darkgrey')\n",
    "plt.ylabel('Number of Customer')\n",
    "plt.grid(True, linestyle='-.')\n",
    "plt.show()"
   ]
  },
  {
   "cell_type": "code",
   "execution_count": 56,
   "metadata": {},
   "outputs": [
    {
     "data": {
      "image/png": "[encoded data removed]",
      "text/plain": [
       "<Figure size 640x480 with 1 Axes>"
      ]
     },
     "metadata": {},
     "output_type": "display_data"
    }
   ],
   "source": [
    "# Visualize the clusters\n",
    "for cluster in range(optimal_clusters):\n",
    "    cluster_data = df_new[df_new['segment_id'] == cluster]\n",
    "    plt.scatter(cluster_data['order_item_quantity'], cluster_data['sales'],\n",
    "                label=f'Cluster {cluster}')\n",
    "\n",
    "plt.xlabel('Order Quantity')\n",
    "plt.ylabel('Sales')\n",
    "plt.title('Customer Segmentation')\n",
    "plt.legend()\n",
    "plt.show()"
   ]
  },
  {
   "cell_type": "code",
   "execution_count": 57,
   "metadata": {},
   "outputs": [
    {
     "data": {
      "image/png": "[encoded data removed]",
      "text/plain": [
       "<Figure size 1500x400 with 6 Axes>"
      ]
     },
     "metadata": {},
     "output_type": "display_data"
    }
   ],
   "source": [
    "# Visualize the distribution of each feature in different clusters\n",
    "plt.figure(figsize=(15, 4))\n",
    "for i, col in enumerate(col, 1):\n",
    "    plt.subplot(1, 7, i)\n",
    "    sns.boxplot(x='segment_id', y=col, data=df_new)\n",
    "    plt.title(f'Distribution of {col} \\nin Different SegmentID', fontsize=8)\n",
    "\n",
    "plt.tight_layout()\n",
    "plt.show()"
   ]
  },
  {
   "cell_type": "markdown",
   "metadata": {},
   "source": [
    "### Analyzing each customer segment formed by k-means clustering"
   ]
  },
  {
   "cell_type": "markdown",
   "metadata": {},
   "source": [
    "**Segment 0:**\n",
    "\n",
    "* Order Item Quantity: Lower median quantity, which might indicate individual consumers or small orders.\n",
    "* Sales: Significantly lower sales values.\n",
    "* Benefit per Order: Narrow range around a slightly positive median benefit, indicating consistent but lower profitability.\n",
    "* Order Item Discount: Lower discount values, suggesting these customers are less influenced by or receive fewer discounts.\n",
    "* Order Item Total: Lower total values, aligning with the lower sales and discounts.\n",
    "* Order Duration: Lower duration, possibly indicating quicker order fulfillment or decision times.\n",
    "* Interpretation: This segment could represent **'Casual Shoppers'** who purchase less frequently and are less sensitive to discounts, possibly making more spontaneous or need-based purchases.\n",
    "\n",
    "**Segment 1:**\n",
    "* Order Item Quantity: Higher variability with a slightly higher median quantity.\n",
    "* Sales: Higher median sales with some outliers indicating a few very high-value orders.\n",
    "* Benefit per Order: Wide range, including negative benefits, which may suggest a mix of very profitable and loss-making orders.\n",
    "* Order Item Discount: Higher discounts on average, suggesting these customers may be more discount-driven.\n",
    "Order Item Total: Higher total values but less than Segment 2.\n",
    "* Order Duration: Similar to Segment 0, with a slightly higher duration.\n",
    "* Interpretation: This segment might be **'Promotion Sensitive Buyers'** who are attracted by discounts and may make larger purchases when incentivized.\n",
    "\n",
    "**Segment 2:**\n",
    "\n",
    "* Order Item Quantity: Similar to Segment 1 with a little less variability.\n",
    "* Sales: Very high sales values with some extreme outliers.\n",
    "* Benefit per Order: A wide range of benefits, including the most negative and positive values, suggesting a mix of very large but variably profitable orders.\n",
    "* Order Item Discount: Significant variability in discounts, with some customers getting high discounts.\n",
    "* Order Item Total: The highest order totals, consistent with the high sales values.\n",
    "* Order Duration: Median duration similar to Segments 0 and 1, with a wider range indicating more variability in order processing times.\n",
    "* Interpretation: Could be labeled as **'High-Spending Buyers'**, characterized by high sales and order totals, potentially including both bulk buyers and those purchasing premium items.\n",
    "\n",
    "**Segment 3:**\n",
    "\n",
    "* Order Item Quantity: Very high median quantity, suggesting bulk purchases.\n",
    "* Sales: Lower median sales compared to Segment 1 and especially Segment 2, yet higher than Segment 0.\n",
    "* Benefit per Order: A narrower range of benefits around a low positive median, indicating more uniformly profitable orders than in Segment 2.\n",
    "* Order Item Discount: Very low discounts, similar to Segment 0.\n",
    "* Order Item Total: Despite the high item quantity, the total order value is moderate, suggesting these might be bulk purchases of lower-priced items.\n",
    "* Order Duration: A bit higher duration than the other segments, suggesting these orders may take longer to process, or customers are willing to wait longer.\n",
    "* Interpretation: This segment seems to represent **'Bulk Shoppers'**, those who purchase in large quantities but at lower individual item costs, likely driven by need or utility rather than promotion.\n",
    "\n",
    "Other Observations:\n",
    "* There appears to be a significant variation within segments, particularly in terms of benefits per order and sales, suggesting diverse buying behaviors within segments.\n",
    "* The clusters show differentiation primarily in terms of sales, order item quantity, and order item total, which could be key factors for targeted marketing strategies."
   ]
  },
  {
   "cell_type": "markdown",
   "metadata": {},
   "source": [
    "### Predictive Modeling"
   ]
  },
  {
   "cell_type": "code",
   "execution_count": 58,
   "metadata": {},
   "outputs": [
    {
     "name": "stdout",
     "output_type": "stream",
     "text": [
      "Requirement already satisfied: joblib in c:\\users\\srush\\anaconda3\\envs\\cudatest\\lib\\site-packages (1.2.0)\n"
     ]
    }
   ],
   "source": [
    "! pip install joblib"
   ]
  },
  {
   "cell_type": "code",
   "execution_count": 59,
   "metadata": {},
   "outputs": [
    {
     "data": {
      "text/plain": [
       "['scaler_model.joblib']"
      ]
     },
     "execution_count": 59,
     "metadata": {},
     "output_type": "execute_result"
    }
   ],
   "source": [
    "# Save the trained model and scaler for future use\n",
    "import joblib\n",
    "\n",
    "joblib.dump(kmeans, 'kmeans_model.joblib')\n",
    "joblib.dump(scaler, 'scaler_model.joblib')"
   ]
  },
  {
   "cell_type": "code",
   "execution_count": 60,
   "metadata": {},
   "outputs": [],
   "source": [
    "# Predict the category for new data\n",
    "def predict_category(new_data):\n",
    "    # Load the trained model and scaler\n",
    "    kmeans_model = joblib.load('kmeans_model.joblib')\n",
    "    scaler_model = joblib.load('scaler_model.joblib')\n",
    "\n",
    "    # Preprocess the new data\n",
    "    new_data_scaled = scaler_model.transform(new_data)\n",
    "    \n",
    "    # Predict the cluster\n",
    "    cluster_prediction = kmeans_model.predict(new_data_scaled)\n",
    "\n",
    "    # Map the cluster to the category\n",
    "    category_prediction = {\n",
    "        0: 'Casual Shoppers',\n",
    "        1: 'Promotion Sensitive Buyers',\n",
    "        2: 'High-Spending Buyers',\n",
    "        3: 'Bulk Shoppers'\n",
    "    }.get(cluster_prediction[0], 'Unknown Category')\n",
    "\n",
    "    return category_prediction"
   ]
  },
  {
   "cell_type": "code",
   "execution_count": 62,
   "metadata": {},
   "outputs": [
    {
     "name": "stdout",
     "output_type": "stream",
     "text": [
      "Predicted Category: High-Spending Buyers\n"
     ]
    }
   ],
   "source": [
    "\n",
    "# Predictions\n",
    "new_data_example = [[1,\t327.75,\t91.250000,\t13.110000, 314.640015, 3]]  # New data for the predictors\n",
    "predicted_category = predict_category(new_data_example)\n",
    "print(f\"Predicted Category: {predicted_category}\")"
   ]
  }
 ],
 "metadata": {
  "kernelspec": {
   "display_name": "Python 3",
   "language": "python",
   "name": "python3"
  },
  "language_info": {
   "codemirror_mode": {
    "name": "ipython",
    "version": 3
   },
   "file_extension": ".py",
   "mimetype": "text/x-python",
   "name": "python",
   "nbconvert_exporter": "python",
   "pygments_lexer": "ipython3",
   "version": "3.9.18"
  }
 },
 "nbformat": 4,
 "nbformat_minor": 2
}
